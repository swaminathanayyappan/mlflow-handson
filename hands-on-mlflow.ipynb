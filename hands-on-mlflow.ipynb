{
 "cells": [
  {
   "cell_type": "markdown",
   "metadata": {},
   "source": [
    "# Mlflow Hands-on"
   ]
  },
  {
   "cell_type": "code",
   "execution_count": 1,
   "metadata": {},
   "outputs": [
    {
     "name": "stdout",
     "output_type": "stream",
     "text": [
      "Requirement already satisfied: mlflow in c:\\users\\swaminathan.ayya\\appdata\\local\\anaconda3\\envs\\mle-dev\\lib\\site-packages (2.14.1)\n",
      "Requirement already satisfied: Flask<4 in c:\\users\\swaminathan.ayya\\appdata\\local\\anaconda3\\envs\\mle-dev\\lib\\site-packages (from mlflow) (3.0.3)\n",
      "Requirement already satisfied: alembic!=1.10.0,<2 in c:\\users\\swaminathan.ayya\\appdata\\local\\anaconda3\\envs\\mle-dev\\lib\\site-packages (from mlflow) (1.13.1)\n",
      "Requirement already satisfied: cachetools<6,>=5.0.0 in c:\\users\\swaminathan.ayya\\appdata\\local\\anaconda3\\envs\\mle-dev\\lib\\site-packages (from mlflow) (5.3.3)\n",
      "Requirement already satisfied: click<9,>=7.0 in c:\\users\\swaminathan.ayya\\appdata\\local\\anaconda3\\envs\\mle-dev\\lib\\site-packages (from mlflow) (8.1.7)\n",
      "Requirement already satisfied: cloudpickle<4 in c:\\users\\swaminathan.ayya\\appdata\\local\\anaconda3\\envs\\mle-dev\\lib\\site-packages (from mlflow) (3.0.0)\n",
      "Requirement already satisfied: docker<8,>=4.0.0 in c:\\users\\swaminathan.ayya\\appdata\\local\\anaconda3\\envs\\mle-dev\\lib\\site-packages (from mlflow) (7.1.0)\n",
      "Requirement already satisfied: entrypoints<1 in c:\\users\\swaminathan.ayya\\appdata\\local\\anaconda3\\envs\\mle-dev\\lib\\site-packages (from mlflow) (0.4)\n",
      "Requirement already satisfied: gitpython<4,>=3.1.9 in c:\\users\\swaminathan.ayya\\appdata\\local\\anaconda3\\envs\\mle-dev\\lib\\site-packages (from mlflow) (3.1.43)\n",
      "Requirement already satisfied: graphene<4 in c:\\users\\swaminathan.ayya\\appdata\\local\\anaconda3\\envs\\mle-dev\\lib\\site-packages (from mlflow) (3.3)\n",
      "Requirement already satisfied: importlib-metadata!=4.7.0,<8,>=3.7.0 in c:\\users\\swaminathan.ayya\\appdata\\local\\anaconda3\\envs\\mle-dev\\lib\\site-packages (from mlflow) (7.1.0)\n",
      "Requirement already satisfied: markdown<4,>=3.3 in c:\\users\\swaminathan.ayya\\appdata\\local\\anaconda3\\envs\\mle-dev\\lib\\site-packages (from mlflow) (3.6)\n",
      "Requirement already satisfied: matplotlib<4 in c:\\users\\swaminathan.ayya\\appdata\\local\\anaconda3\\envs\\mle-dev\\lib\\site-packages (from mlflow) (3.9.0)\n",
      "Requirement already satisfied: numpy<2 in c:\\users\\swaminathan.ayya\\appdata\\local\\anaconda3\\envs\\mle-dev\\lib\\site-packages (from mlflow) (1.26.4)\n",
      "Requirement already satisfied: opentelemetry-api<3,>=1.9.0 in c:\\users\\swaminathan.ayya\\appdata\\local\\anaconda3\\envs\\mle-dev\\lib\\site-packages (from mlflow) (1.25.0)\n",
      "Requirement already satisfied: opentelemetry-sdk<3,>=1.9.0 in c:\\users\\swaminathan.ayya\\appdata\\local\\anaconda3\\envs\\mle-dev\\lib\\site-packages (from mlflow) (1.25.0)\n",
      "Requirement already satisfied: packaging<25 in c:\\users\\swaminathan.ayya\\appdata\\local\\anaconda3\\envs\\mle-dev\\lib\\site-packages (from mlflow) (24.0)\n",
      "Requirement already satisfied: pandas<3 in c:\\users\\swaminathan.ayya\\appdata\\local\\anaconda3\\envs\\mle-dev\\lib\\site-packages (from mlflow) (2.2.2)\n",
      "Requirement already satisfied: protobuf<5,>=3.12.0 in c:\\users\\swaminathan.ayya\\appdata\\local\\anaconda3\\envs\\mle-dev\\lib\\site-packages (from mlflow) (4.25.3)\n",
      "Requirement already satisfied: pyarrow<16,>=4.0.0 in c:\\users\\swaminathan.ayya\\appdata\\local\\anaconda3\\envs\\mle-dev\\lib\\site-packages (from mlflow) (15.0.2)\n",
      "Requirement already satisfied: pytz<2025 in c:\\users\\swaminathan.ayya\\appdata\\local\\anaconda3\\envs\\mle-dev\\lib\\site-packages (from mlflow) (2024.1)\n",
      "Requirement already satisfied: pyyaml<7,>=5.1 in c:\\users\\swaminathan.ayya\\appdata\\local\\anaconda3\\envs\\mle-dev\\lib\\site-packages (from mlflow) (6.0.1)\n",
      "Requirement already satisfied: querystring-parser<2 in c:\\users\\swaminathan.ayya\\appdata\\local\\anaconda3\\envs\\mle-dev\\lib\\site-packages (from mlflow) (1.2.4)\n",
      "Requirement already satisfied: requests<3,>=2.17.3 in c:\\users\\swaminathan.ayya\\appdata\\local\\anaconda3\\envs\\mle-dev\\lib\\site-packages (from mlflow) (2.32.3)\n",
      "Requirement already satisfied: scikit-learn<2 in c:\\users\\swaminathan.ayya\\appdata\\local\\anaconda3\\envs\\mle-dev\\lib\\site-packages (from mlflow) (1.5.0)\n",
      "Requirement already satisfied: scipy<2 in c:\\users\\swaminathan.ayya\\appdata\\local\\anaconda3\\envs\\mle-dev\\lib\\site-packages (from mlflow) (1.13.1)\n",
      "Requirement already satisfied: sqlalchemy<3,>=1.4.0 in c:\\users\\swaminathan.ayya\\appdata\\local\\anaconda3\\envs\\mle-dev\\lib\\site-packages (from mlflow) (2.0.31)\n",
      "Requirement already satisfied: sqlparse<1,>=0.4.0 in c:\\users\\swaminathan.ayya\\appdata\\local\\anaconda3\\envs\\mle-dev\\lib\\site-packages (from mlflow) (0.5.0)\n",
      "Requirement already satisfied: Jinja2<4,>=3.0 in c:\\users\\swaminathan.ayya\\appdata\\local\\anaconda3\\envs\\mle-dev\\lib\\site-packages (from mlflow) (3.1.4)\n",
      "Requirement already satisfied: waitress<4 in c:\\users\\swaminathan.ayya\\appdata\\local\\anaconda3\\envs\\mle-dev\\lib\\site-packages (from mlflow) (3.0.0)\n",
      "Requirement already satisfied: Mako in c:\\users\\swaminathan.ayya\\appdata\\local\\anaconda3\\envs\\mle-dev\\lib\\site-packages (from alembic!=1.10.0,<2->mlflow) (1.3.5)\n",
      "Requirement already satisfied: typing-extensions>=4 in c:\\users\\swaminathan.ayya\\appdata\\local\\anaconda3\\envs\\mle-dev\\lib\\site-packages (from alembic!=1.10.0,<2->mlflow) (4.12.0)\n",
      "Requirement already satisfied: colorama in c:\\users\\swaminathan.ayya\\appdata\\local\\anaconda3\\envs\\mle-dev\\lib\\site-packages (from click<9,>=7.0->mlflow) (0.4.6)\n",
      "Requirement already satisfied: pywin32>=304 in c:\\users\\swaminathan.ayya\\appdata\\local\\anaconda3\\envs\\mle-dev\\lib\\site-packages (from docker<8,>=4.0.0->mlflow) (306)\n",
      "Requirement already satisfied: urllib3>=1.26.0 in c:\\users\\swaminathan.ayya\\appdata\\local\\anaconda3\\envs\\mle-dev\\lib\\site-packages (from docker<8,>=4.0.0->mlflow) (2.2.1)\n",
      "Requirement already satisfied: Werkzeug>=3.0.0 in c:\\users\\swaminathan.ayya\\appdata\\local\\anaconda3\\envs\\mle-dev\\lib\\site-packages (from Flask<4->mlflow) (3.0.3)\n",
      "Requirement already satisfied: itsdangerous>=2.1.2 in c:\\users\\swaminathan.ayya\\appdata\\local\\anaconda3\\envs\\mle-dev\\lib\\site-packages (from Flask<4->mlflow) (2.2.0)\n",
      "Requirement already satisfied: blinker>=1.6.2 in c:\\users\\swaminathan.ayya\\appdata\\local\\anaconda3\\envs\\mle-dev\\lib\\site-packages (from Flask<4->mlflow) (1.8.2)\n",
      "Requirement already satisfied: gitdb<5,>=4.0.1 in c:\\users\\swaminathan.ayya\\appdata\\local\\anaconda3\\envs\\mle-dev\\lib\\site-packages (from gitpython<4,>=3.1.9->mlflow) (4.0.11)\n",
      "Requirement already satisfied: graphql-core<3.3,>=3.1 in c:\\users\\swaminathan.ayya\\appdata\\local\\anaconda3\\envs\\mle-dev\\lib\\site-packages (from graphene<4->mlflow) (3.2.3)\n",
      "Requirement already satisfied: graphql-relay<3.3,>=3.1 in c:\\users\\swaminathan.ayya\\appdata\\local\\anaconda3\\envs\\mle-dev\\lib\\site-packages (from graphene<4->mlflow) (3.2.0)\n",
      "Requirement already satisfied: aniso8601<10,>=8 in c:\\users\\swaminathan.ayya\\appdata\\local\\anaconda3\\envs\\mle-dev\\lib\\site-packages (from graphene<4->mlflow) (9.0.1)\n",
      "Requirement already satisfied: zipp>=0.5 in c:\\users\\swaminathan.ayya\\appdata\\local\\anaconda3\\envs\\mle-dev\\lib\\site-packages (from importlib-metadata!=4.7.0,<8,>=3.7.0->mlflow) (3.19.2)\n",
      "Requirement already satisfied: MarkupSafe>=2.0 in c:\\users\\swaminathan.ayya\\appdata\\local\\anaconda3\\envs\\mle-dev\\lib\\site-packages (from Jinja2<4,>=3.0->mlflow) (2.1.5)\n",
      "Requirement already satisfied: contourpy>=1.0.1 in c:\\users\\swaminathan.ayya\\appdata\\local\\anaconda3\\envs\\mle-dev\\lib\\site-packages (from matplotlib<4->mlflow) (1.2.1)\n",
      "Requirement already satisfied: cycler>=0.10 in c:\\users\\swaminathan.ayya\\appdata\\local\\anaconda3\\envs\\mle-dev\\lib\\site-packages (from matplotlib<4->mlflow) (0.12.1)\n",
      "Requirement already satisfied: fonttools>=4.22.0 in c:\\users\\swaminathan.ayya\\appdata\\local\\anaconda3\\envs\\mle-dev\\lib\\site-packages (from matplotlib<4->mlflow) (4.52.4)\n",
      "Requirement already satisfied: kiwisolver>=1.3.1 in c:\\users\\swaminathan.ayya\\appdata\\local\\anaconda3\\envs\\mle-dev\\lib\\site-packages (from matplotlib<4->mlflow) (1.4.5)\n",
      "Requirement already satisfied: pillow>=8 in c:\\users\\swaminathan.ayya\\appdata\\local\\anaconda3\\envs\\mle-dev\\lib\\site-packages (from matplotlib<4->mlflow) (10.3.0)\n",
      "Requirement already satisfied: pyparsing>=2.3.1 in c:\\users\\swaminathan.ayya\\appdata\\local\\anaconda3\\envs\\mle-dev\\lib\\site-packages (from matplotlib<4->mlflow) (3.1.2)\n",
      "Requirement already satisfied: python-dateutil>=2.7 in c:\\users\\swaminathan.ayya\\appdata\\local\\anaconda3\\envs\\mle-dev\\lib\\site-packages (from matplotlib<4->mlflow) (2.9.0)\n",
      "Requirement already satisfied: deprecated>=1.2.6 in c:\\users\\swaminathan.ayya\\appdata\\local\\anaconda3\\envs\\mle-dev\\lib\\site-packages (from opentelemetry-api<3,>=1.9.0->mlflow) (1.2.14)\n",
      "Requirement already satisfied: opentelemetry-semantic-conventions==0.46b0 in c:\\users\\swaminathan.ayya\\appdata\\local\\anaconda3\\envs\\mle-dev\\lib\\site-packages (from opentelemetry-sdk<3,>=1.9.0->mlflow) (0.46b0)\n",
      "Requirement already satisfied: tzdata>=2022.7 in c:\\users\\swaminathan.ayya\\appdata\\local\\anaconda3\\envs\\mle-dev\\lib\\site-packages (from pandas<3->mlflow) (2024.1)\n",
      "Requirement already satisfied: six in c:\\users\\swaminathan.ayya\\appdata\\local\\anaconda3\\envs\\mle-dev\\lib\\site-packages (from querystring-parser<2->mlflow) (1.16.0)\n",
      "Requirement already satisfied: charset-normalizer<4,>=2 in c:\\users\\swaminathan.ayya\\appdata\\local\\anaconda3\\envs\\mle-dev\\lib\\site-packages (from requests<3,>=2.17.3->mlflow) (3.3.2)\n",
      "Requirement already satisfied: idna<4,>=2.5 in c:\\users\\swaminathan.ayya\\appdata\\local\\anaconda3\\envs\\mle-dev\\lib\\site-packages (from requests<3,>=2.17.3->mlflow) (3.7)\n",
      "Requirement already satisfied: certifi>=2017.4.17 in c:\\users\\swaminathan.ayya\\appdata\\local\\anaconda3\\envs\\mle-dev\\lib\\site-packages (from requests<3,>=2.17.3->mlflow) (2024.6.2)\n",
      "Requirement already satisfied: joblib>=1.2.0 in c:\\users\\swaminathan.ayya\\appdata\\local\\anaconda3\\envs\\mle-dev\\lib\\site-packages (from scikit-learn<2->mlflow) (1.4.2)\n",
      "Requirement already satisfied: threadpoolctl>=3.1.0 in c:\\users\\swaminathan.ayya\\appdata\\local\\anaconda3\\envs\\mle-dev\\lib\\site-packages (from scikit-learn<2->mlflow) (3.5.0)\n",
      "Requirement already satisfied: greenlet!=0.4.17 in c:\\users\\swaminathan.ayya\\appdata\\local\\anaconda3\\envs\\mle-dev\\lib\\site-packages (from sqlalchemy<3,>=1.4.0->mlflow) (3.0.3)\n",
      "Requirement already satisfied: wrapt<2,>=1.10 in c:\\users\\swaminathan.ayya\\appdata\\local\\anaconda3\\envs\\mle-dev\\lib\\site-packages (from deprecated>=1.2.6->opentelemetry-api<3,>=1.9.0->mlflow) (1.16.0)\n",
      "Requirement already satisfied: smmap<6,>=3.0.1 in c:\\users\\swaminathan.ayya\\appdata\\local\\anaconda3\\envs\\mle-dev\\lib\\site-packages (from gitdb<5,>=4.0.1->gitpython<4,>=3.1.9->mlflow) (5.0.1)\n"
     ]
    }
   ],
   "source": [
    "#Installing mlflow\n",
    "!pip install mlflow"
   ]
  },
  {
   "cell_type": "code",
   "execution_count": 2,
   "metadata": {},
   "outputs": [],
   "source": [
    "import os\n",
    "import warnings\n",
    "import sys\n",
    "\n",
    "import pandas as pd\n",
    "import numpy as np\n",
    "\n",
    "from sklearn.metrics import mean_squared_error, mean_absolute_error, r2_score\n",
    "from sklearn.model_selection import train_test_split\n",
    "from sklearn.linear_model import ElasticNet\n"
   ]
  },
  {
   "cell_type": "code",
   "execution_count": 3,
   "metadata": {},
   "outputs": [],
   "source": [
    "import mlflow\n",
    "import mlflow.sklearn"
   ]
  },
  {
   "cell_type": "markdown",
   "metadata": {},
   "source": [
    "## 0. The data"
   ]
  },
  {
   "cell_type": "markdown",
   "metadata": {},
   "source": [
    "* The data set used in this example is from http://archive.ics.uci.edu/ml/datasets/Wine+Quality\n",
    "* P. Cortez, A. Cerdeira, F. Almeida, T. Matos and J. Reis.\n",
    "* Modeling wine preferences by data mining from physicochemical properties. In Decision Support Systems, Elsevier, 47(4):547-553, 2009."
   ]
  },
  {
   "cell_type": "code",
   "execution_count": 4,
   "metadata": {},
   "outputs": [
    {
     "data": {
      "text/html": [
       "<div>\n",
       "<style scoped>\n",
       "    .dataframe tbody tr th:only-of-type {\n",
       "        vertical-align: middle;\n",
       "    }\n",
       "\n",
       "    .dataframe tbody tr th {\n",
       "        vertical-align: top;\n",
       "    }\n",
       "\n",
       "    .dataframe thead th {\n",
       "        text-align: right;\n",
       "    }\n",
       "</style>\n",
       "<table border=\"1\" class=\"dataframe\">\n",
       "  <thead>\n",
       "    <tr style=\"text-align: right;\">\n",
       "      <th></th>\n",
       "      <th>fixed acidity</th>\n",
       "      <th>volatile acidity</th>\n",
       "      <th>citric acid</th>\n",
       "      <th>residual sugar</th>\n",
       "      <th>chlorides</th>\n",
       "      <th>free sulfur dioxide</th>\n",
       "      <th>total sulfur dioxide</th>\n",
       "      <th>density</th>\n",
       "      <th>pH</th>\n",
       "      <th>sulphates</th>\n",
       "      <th>alcohol</th>\n",
       "      <th>quality</th>\n",
       "    </tr>\n",
       "  </thead>\n",
       "  <tbody>\n",
       "    <tr>\n",
       "      <th>2503</th>\n",
       "      <td>8.6</td>\n",
       "      <td>0.340</td>\n",
       "      <td>0.36</td>\n",
       "      <td>1.4</td>\n",
       "      <td>0.045</td>\n",
       "      <td>11.0</td>\n",
       "      <td>119.0</td>\n",
       "      <td>0.99556</td>\n",
       "      <td>3.17</td>\n",
       "      <td>0.47</td>\n",
       "      <td>9.400000</td>\n",
       "      <td>4</td>\n",
       "    </tr>\n",
       "    <tr>\n",
       "      <th>3395</th>\n",
       "      <td>6.6</td>\n",
       "      <td>0.260</td>\n",
       "      <td>0.46</td>\n",
       "      <td>7.8</td>\n",
       "      <td>0.047</td>\n",
       "      <td>48.0</td>\n",
       "      <td>186.0</td>\n",
       "      <td>0.99580</td>\n",
       "      <td>3.20</td>\n",
       "      <td>0.54</td>\n",
       "      <td>9.100000</td>\n",
       "      <td>5</td>\n",
       "    </tr>\n",
       "    <tr>\n",
       "      <th>4255</th>\n",
       "      <td>6.0</td>\n",
       "      <td>0.330</td>\n",
       "      <td>0.26</td>\n",
       "      <td>5.1</td>\n",
       "      <td>0.051</td>\n",
       "      <td>16.0</td>\n",
       "      <td>119.0</td>\n",
       "      <td>0.99416</td>\n",
       "      <td>3.15</td>\n",
       "      <td>0.41</td>\n",
       "      <td>9.200000</td>\n",
       "      <td>5</td>\n",
       "    </tr>\n",
       "    <tr>\n",
       "      <th>4811</th>\n",
       "      <td>7.0</td>\n",
       "      <td>0.170</td>\n",
       "      <td>0.42</td>\n",
       "      <td>1.0</td>\n",
       "      <td>0.075</td>\n",
       "      <td>19.0</td>\n",
       "      <td>71.0</td>\n",
       "      <td>0.99103</td>\n",
       "      <td>3.32</td>\n",
       "      <td>0.62</td>\n",
       "      <td>11.400000</td>\n",
       "      <td>6</td>\n",
       "    </tr>\n",
       "    <tr>\n",
       "      <th>4341</th>\n",
       "      <td>7.4</td>\n",
       "      <td>0.270</td>\n",
       "      <td>0.52</td>\n",
       "      <td>15.7</td>\n",
       "      <td>0.054</td>\n",
       "      <td>36.0</td>\n",
       "      <td>139.0</td>\n",
       "      <td>0.99788</td>\n",
       "      <td>3.04</td>\n",
       "      <td>0.62</td>\n",
       "      <td>10.033333</td>\n",
       "      <td>6</td>\n",
       "    </tr>\n",
       "    <tr>\n",
       "      <th>4075</th>\n",
       "      <td>5.7</td>\n",
       "      <td>0.250</td>\n",
       "      <td>0.26</td>\n",
       "      <td>12.5</td>\n",
       "      <td>0.049</td>\n",
       "      <td>52.5</td>\n",
       "      <td>120.0</td>\n",
       "      <td>0.99691</td>\n",
       "      <td>3.08</td>\n",
       "      <td>0.45</td>\n",
       "      <td>9.400000</td>\n",
       "      <td>6</td>\n",
       "    </tr>\n",
       "    <tr>\n",
       "      <th>4834</th>\n",
       "      <td>5.9</td>\n",
       "      <td>0.370</td>\n",
       "      <td>0.30</td>\n",
       "      <td>1.5</td>\n",
       "      <td>0.033</td>\n",
       "      <td>35.0</td>\n",
       "      <td>95.0</td>\n",
       "      <td>0.98986</td>\n",
       "      <td>3.36</td>\n",
       "      <td>0.56</td>\n",
       "      <td>12.000000</td>\n",
       "      <td>7</td>\n",
       "    </tr>\n",
       "    <tr>\n",
       "      <th>4155</th>\n",
       "      <td>6.1</td>\n",
       "      <td>0.300</td>\n",
       "      <td>0.47</td>\n",
       "      <td>1.4</td>\n",
       "      <td>0.049</td>\n",
       "      <td>50.0</td>\n",
       "      <td>187.0</td>\n",
       "      <td>0.99270</td>\n",
       "      <td>3.19</td>\n",
       "      <td>0.45</td>\n",
       "      <td>9.500000</td>\n",
       "      <td>5</td>\n",
       "    </tr>\n",
       "    <tr>\n",
       "      <th>4778</th>\n",
       "      <td>5.8</td>\n",
       "      <td>0.315</td>\n",
       "      <td>0.19</td>\n",
       "      <td>19.4</td>\n",
       "      <td>0.031</td>\n",
       "      <td>28.0</td>\n",
       "      <td>106.0</td>\n",
       "      <td>0.99704</td>\n",
       "      <td>2.97</td>\n",
       "      <td>0.40</td>\n",
       "      <td>10.550000</td>\n",
       "      <td>6</td>\n",
       "    </tr>\n",
       "    <tr>\n",
       "      <th>120</th>\n",
       "      <td>5.9</td>\n",
       "      <td>0.360</td>\n",
       "      <td>0.04</td>\n",
       "      <td>5.7</td>\n",
       "      <td>0.046</td>\n",
       "      <td>21.0</td>\n",
       "      <td>87.0</td>\n",
       "      <td>0.99340</td>\n",
       "      <td>3.22</td>\n",
       "      <td>0.51</td>\n",
       "      <td>10.200000</td>\n",
       "      <td>5</td>\n",
       "    </tr>\n",
       "  </tbody>\n",
       "</table>\n",
       "</div>"
      ],
      "text/plain": [
       "      fixed acidity  volatile acidity  citric acid  residual sugar  chlorides  \\\n",
       "2503            8.6             0.340         0.36             1.4      0.045   \n",
       "3395            6.6             0.260         0.46             7.8      0.047   \n",
       "4255            6.0             0.330         0.26             5.1      0.051   \n",
       "4811            7.0             0.170         0.42             1.0      0.075   \n",
       "4341            7.4             0.270         0.52            15.7      0.054   \n",
       "4075            5.7             0.250         0.26            12.5      0.049   \n",
       "4834            5.9             0.370         0.30             1.5      0.033   \n",
       "4155            6.1             0.300         0.47             1.4      0.049   \n",
       "4778            5.8             0.315         0.19            19.4      0.031   \n",
       "120             5.9             0.360         0.04             5.7      0.046   \n",
       "\n",
       "      free sulfur dioxide  total sulfur dioxide  density    pH  sulphates  \\\n",
       "2503                 11.0                 119.0  0.99556  3.17       0.47   \n",
       "3395                 48.0                 186.0  0.99580  3.20       0.54   \n",
       "4255                 16.0                 119.0  0.99416  3.15       0.41   \n",
       "4811                 19.0                  71.0  0.99103  3.32       0.62   \n",
       "4341                 36.0                 139.0  0.99788  3.04       0.62   \n",
       "4075                 52.5                 120.0  0.99691  3.08       0.45   \n",
       "4834                 35.0                  95.0  0.98986  3.36       0.56   \n",
       "4155                 50.0                 187.0  0.99270  3.19       0.45   \n",
       "4778                 28.0                 106.0  0.99704  2.97       0.40   \n",
       "120                  21.0                  87.0  0.99340  3.22       0.51   \n",
       "\n",
       "        alcohol  quality  \n",
       "2503   9.400000        4  \n",
       "3395   9.100000        5  \n",
       "4255   9.200000        5  \n",
       "4811  11.400000        6  \n",
       "4341  10.033333        6  \n",
       "4075   9.400000        6  \n",
       "4834  12.000000        7  \n",
       "4155   9.500000        5  \n",
       "4778  10.550000        6  \n",
       "120   10.200000        5  "
      ]
     },
     "execution_count": 4,
     "metadata": {},
     "output_type": "execute_result"
    }
   ],
   "source": [
    "data_path = \"data/wine-quality.csv\"\n",
    "data = pd.read_csv(data_path)\n",
    "data.sample(10)"
   ]
  },
  {
   "cell_type": "markdown",
   "metadata": {},
   "source": [
    "## 1. Tracking experiments"
   ]
  },
  {
   "cell_type": "markdown",
   "metadata": {},
   "source": [
    "### Tracking stores\n",
    "MLflow supports two types of backend stores: *file store* and *database-backed* store.\n",
    "\n",
    "- Local file path (specified as file:/my/local/dir), where data is just directly stored locally. Defaults to `mlruns/`\n",
    "- Database encoded as <dialect>+<driver>://<username>:<password>@<host>:<port>/<database>. Mlflow supports the dialects mysql, mssql, sqlite, and postgresql. For more details, see SQLAlchemy database uri.\n",
    "- HTTP server (specified as https://my-server:5000), which is a server hosting an MLFlow tracking server.\n",
    "- Databricks workspace (specified as databricks or as databricks://<profileName>, a Databricks CLI profile.\n",
    "    \n",
    "### Artifact stores\n",
    "- Amazon S3\n",
    "- Azure Blob Storage\n",
    "- Google Cloud Storage\n",
    "- FTP server\n",
    "- SFTP Server\n",
    "- NFS\n",
    "- HDFS"
   ]
  },
  {
   "cell_type": "markdown",
   "metadata": {},
   "source": [
    "Start the MLflow tracking server by \n",
    "\n",
    "```\n",
    "mlflow server \\\n",
    "    --backend-store-uri /mnt/persistent-disk \\\n",
    "    --default-artifact-root s3://my-mlflow-bucket/ \\\n",
    "    --host 0.0.0.0\n",
    "    --port 5000\n",
    "```\n",
    "\n",
    "or use the default storage method to write to `mlruns/`."
   ]
  },
  {
   "cell_type": "code",
   "execution_count": 5,
   "metadata": {},
   "outputs": [],
   "source": [
    "# mlflow server --backend-store-uri mlruns/ --default-artifact-root mlruns/ --host 0.0.0.0 --port 5000\n",
    "remote_server_uri = \"http://127.0.0.1:5000\" # set to your server URI\n",
    "mlflow.set_tracking_uri(remote_server_uri)  # or set the MLFLOW_TRACKING_URI in the env"
   ]
  },
  {
   "cell_type": "code",
   "execution_count": 6,
   "metadata": {},
   "outputs": [
    {
     "data": {
      "text/plain": [
       "'http://127.0.0.1:5000'"
      ]
     },
     "execution_count": 6,
     "metadata": {},
     "output_type": "execute_result"
    }
   ],
   "source": [
    "mlflow.tracking.get_tracking_uri()"
   ]
  },
  {
   "cell_type": "code",
   "execution_count": 7,
   "metadata": {},
   "outputs": [
    {
     "name": "stderr",
     "output_type": "stream",
     "text": [
      "2024/06/24 18:41:50 INFO mlflow.tracking.fluent: Experiment with name 'ElasticNet_wine' does not exist. Creating a new experiment.\n"
     ]
    },
    {
     "data": {
      "text/plain": [
       "<Experiment: artifact_location='mlflow-artifacts:/112306052378061111', creation_time=1719234710397, experiment_id='112306052378061111', last_update_time=1719234710397, lifecycle_stage='active', name='ElasticNet_wine', tags={}>"
      ]
     },
     "execution_count": 7,
     "metadata": {},
     "output_type": "execute_result"
    }
   ],
   "source": [
    "exp_name = \"ElasticNet_wine\"\n",
    "mlflow.set_experiment(exp_name)"
   ]
  },
  {
   "cell_type": "markdown",
   "metadata": {},
   "source": [
    "### What do we track?\n",
    "\n",
    "- **Code Version**: Git commit hash used for the run (if it was run from an MLflow Project)\n",
    "- **Start & End Time**: Start and end time of the run\n",
    "- **Source**: what code run?\n",
    "- **Parameters**: Key-value input parameters.\n",
    "- **Metrics**: Key-value metrics, where the value is numeric (can be updated over the run)\n",
    "- **Artifacts**: Output files in any format."
   ]
  },
  {
   "cell_type": "code",
   "execution_count": 8,
   "metadata": {},
   "outputs": [],
   "source": [
    "def eval_metrics(actual, pred):\n",
    "    # compute relevant metrics\n",
    "    rmse = np.sqrt(mean_squared_error(actual, pred))\n",
    "    mae = mean_absolute_error(actual, pred)\n",
    "    r2 = r2_score(actual, pred)\n",
    "    return rmse, mae, r2\n",
    "\n",
    "\n",
    "def load_data(data_path):\n",
    "    data = pd.read_csv(data_path)\n",
    "\n",
    "    # Split the data into training and test sets. (0.75, 0.25) split.\n",
    "    train, test = train_test_split(data)\n",
    "\n",
    "    # The predicted column is \"quality\" which is a scalar from [3, 9]\n",
    "    train_x = train.drop([\"quality\"], axis=1)\n",
    "    test_x = test.drop([\"quality\"], axis=1)\n",
    "    train_y = train[[\"quality\"]]\n",
    "    test_y = test[[\"quality\"]]\n",
    "    return train_x, train_y, test_x, test_y\n",
    "\n",
    "\n",
    "def train(alpha=0.5, l1_ratio=0.5):\n",
    "    # train a model with given parameters\n",
    "    warnings.filterwarnings(\"ignore\")\n",
    "    np.random.seed(40)\n",
    "\n",
    "    # Read the wine-quality csv file (make sure you're running this from the root of MLflow!)\n",
    "    data_path = \"data/wine-quality.csv\"\n",
    "    train_x, train_y, test_x, test_y = load_data(data_path)\n",
    "\n",
    "    # Useful for multiple runs (only doing one run in this sample notebook)\n",
    "    with mlflow.start_run():\n",
    "        # Execute ElasticNet\n",
    "        lr = ElasticNet(alpha=alpha, l1_ratio=l1_ratio, random_state=42)\n",
    "        lr.fit(train_x, train_y)\n",
    "\n",
    "        # Evaluate Metrics\n",
    "        predicted_qualities = lr.predict(test_x)\n",
    "        (rmse, mae, r2) = eval_metrics(test_y, predicted_qualities)\n",
    "\n",
    "        # Print out metrics\n",
    "        print(\"Elasticnet model (alpha=%f, l1_ratio=%f):\" % (alpha, l1_ratio))\n",
    "        print(\"  RMSE: %s\" % rmse)\n",
    "        print(\"  MAE: %s\" % mae)\n",
    "        print(\"  R2: %s\" % r2)\n",
    "\n",
    "        # Log parameter, metrics, and model to MLflow\n",
    "        mlflow.log_param(key=\"alpha\", value=alpha)\n",
    "        mlflow.log_param(key=\"l1_ratio\", value=l1_ratio)\n",
    "        mlflow.log_metric(key=\"rmse\", value=rmse)\n",
    "        mlflow.log_metrics({\"mae\": mae, \"r2\": r2})\n",
    "        mlflow.log_artifact(data_path)\n",
    "        print(\"Save to: {}\".format(mlflow.get_artifact_uri()))\n",
    "\n",
    "        mlflow.sklearn.log_model(lr, \"model\")"
   ]
  },
  {
   "cell_type": "code",
   "execution_count": 9,
   "metadata": {},
   "outputs": [],
   "source": [
    "# could also do\n",
    "# with mlflow.start_run():\n",
    "#     for epoch in range(0, 3):\n",
    "#          mlflow.log_metric(key=\"quality\", value=2*epoch, step=epoch)"
   ]
  },
  {
   "cell_type": "code",
   "execution_count": 9,
   "metadata": {},
   "outputs": [
    {
     "name": "stdout",
     "output_type": "stream",
     "text": [
      "Elasticnet model (alpha=0.500000, l1_ratio=0.500000):\n",
      "  RMSE: 0.82224284975954\n",
      "  MAE: 0.6278761410160693\n",
      "  R2: 0.12678721972772689\n",
      "Save to: mlflow-artifacts:/112306052378061111/88e0f1660d2e4a5ab10fc11ce6e7e64a/artifacts\n"
     ]
    }
   ],
   "source": [
    "train(0.5, 0.5)"
   ]
  },
  {
   "cell_type": "code",
   "execution_count": 10,
   "metadata": {},
   "outputs": [
    {
     "name": "stdout",
     "output_type": "stream",
     "text": [
      "Elasticnet model (alpha=0.200000, l1_ratio=0.200000):\n",
      "  RMSE: 0.7859129997062342\n",
      "  MAE: 0.6155290394093895\n",
      "  R2: 0.20224631822892092\n",
      "Save to: mlflow-artifacts:/112306052378061111/dc65f9a61069465aaeab7090ddb2aad0/artifacts\n"
     ]
    }
   ],
   "source": [
    "train(0.2, 0.2)"
   ]
  },
  {
   "cell_type": "code",
   "execution_count": 11,
   "metadata": {},
   "outputs": [
    {
     "name": "stdout",
     "output_type": "stream",
     "text": [
      "Elasticnet model (alpha=0.100000, l1_ratio=0.100000):\n",
      "  RMSE: 0.7792546522251949\n",
      "  MAE: 0.6112547988118586\n",
      "  R2: 0.2157063843066196\n",
      "Save to: mlflow-artifacts:/112306052378061111/5682148d12ef457aa32031913c9f5e1f/artifacts\n"
     ]
    }
   ],
   "source": [
    "train(0.1, 0.1)"
   ]
  },
  {
   "cell_type": "markdown",
   "metadata": {},
   "source": [
    "### 1.1 Comparing runs\n",
    "Run `mlflow ui` in a terminal or `http://your-tracking-server-host:5000` to view the experiment log and visualize and compare different runs and experiments. The logs and the model artifacts are saved in the `mlruns` directory (or where you specified)."
   ]
  },
  {
   "cell_type": "markdown",
   "metadata": {},
   "source": [
    "## 2. Packaging the experiment as a MLflow project as conda env\n",
    "\n",
    "Specify the entrypoint for this project by creating a `MLproject` file and adding an conda environment with a `conda.yaml`. You can copy the yaml file from the experiment logs.\n",
    "\n",
    "To run this project, invoke `mlflow run . -P alpha=0.42`. After running this command, MLflow runs your training code in a new Conda environment with the dependencies specified in `conda.yaml`.\n"
   ]
  },
  {
   "cell_type": "markdown",
   "metadata": {},
   "source": [
    "## 3. Deploy the model\n",
    "\n",
    "Deploy the model locally by running \n",
    "\n",
    "`mlflow models serve -m mlruns/0/f5f7c052ddc5469a852aa52c14cabdf1/artifacts/model/ -h 0.0.0.0 -p 1234`"
   ]
  },
  {
   "cell_type": "markdown",
   "metadata": {},
   "source": [
    "Test the endpoint:\n",
    "\n",
    "`curl -X POST -H \"Content-Type:application/json; format=pandas-split\" --data '{\"columns\":[\"alcohol\", \"chlorides\", \"citric acid\", \"density\", \"fixed acidity\", \"free sulfur dioxide\", \"pH\", \"residual sugar\", \"sulphates\", \"total sulfur dioxide\", \"volatile acidity\"],\"data\":[[12.8, 0.029, 0.48, 0.98, 6.2, 29, 3.33, 1.2, 0.39, 75, 0.66]]}' http://0.0.0.0:1234/invocations`"
   ]
  },
  {
   "cell_type": "markdown",
   "metadata": {},
   "source": [
    "You can also simply build a docker image from your model\n",
    "\n",
    "`mlflow models build-docker -m mlruns/1/d671f37a9c7f478989e67eb4ff4d1dac/artifacts/model/ -n elastic_net_wine`\n",
    "\n",
    "and run the container with\n",
    "\n",
    "`docker run -p 8080:8080 elastic_net_wine`.\n",
    "\n",
    "Or you can directly deploy to AWS sagemaker or Microsoft Azure ML."
   ]
  },
  {
   "cell_type": "markdown",
   "metadata": {},
   "source": [
    "## 4. Tagging runs"
   ]
  },
  {
   "cell_type": "code",
   "execution_count": 12,
   "metadata": {},
   "outputs": [
    {
     "name": "stdout",
     "output_type": "stream",
     "text": [
      "['__class__', '__delattr__', '__dict__', '__dir__', '__doc__', '__eq__', '__format__', '__ge__', '__getattribute__', '__gt__', '__hash__', '__init__', '__init_subclass__', '__le__', '__lt__', '__module__', '__ne__', '__new__', '__reduce__', '__reduce_ex__', '__repr__', '__setattr__', '__sizeof__', '__str__', '__subclasshook__', '__weakref__', '_check_artifact_file_string', '_create_model_version', '_get_registry_client', '_log_artifact_async_helper', '_log_artifact_helper', '_read_from_file', '_record_logged_model', '_registry_uri', '_start_tracked_trace', '_tracking_client', '_upload_ended_trace_info', '_upload_trace_data', '_upload_trace_spans_as_tag', 'copy_model_version', 'create_experiment', 'create_model_version', 'create_registered_model', 'create_run', 'delete_experiment', 'delete_model_version', 'delete_model_version_tag', 'delete_registered_model', 'delete_registered_model_alias', 'delete_registered_model_tag', 'delete_run', 'delete_tag', 'delete_trace_tag', 'delete_traces', 'download_artifacts', 'end_span', 'end_trace', 'get_experiment', 'get_experiment_by_name', 'get_latest_versions', 'get_metric_history', 'get_model_version', 'get_model_version_by_alias', 'get_model_version_download_uri', 'get_model_version_stages', 'get_parent_run', 'get_registered_model', 'get_run', 'get_trace', 'list_artifacts', 'load_table', 'log_artifact', 'log_artifacts', 'log_batch', 'log_dict', 'log_figure', 'log_image', 'log_inputs', 'log_metric', 'log_param', 'log_table', 'log_text', 'rename_experiment', 'rename_registered_model', 'restore_experiment', 'restore_run', 'search_experiments', 'search_model_versions', 'search_registered_models', 'search_runs', 'search_traces', 'set_experiment_tag', 'set_model_version_tag', 'set_registered_model_alias', 'set_registered_model_tag', 'set_tag', 'set_terminated', 'set_trace_tag', 'start_span', 'start_trace', 'tracking_uri', 'transition_model_version_stage', 'update_model_version', 'update_registered_model', 'update_run']\n",
      "[<Experiment: artifact_location='mlflow-artifacts:/112306052378061111', creation_time=1719234710397, experiment_id='112306052378061111', last_update_time=1719234710397, lifecycle_stage='active', name='ElasticNet_wine', tags={}>, <Experiment: artifact_location='mlflow-artifacts:/0', creation_time=1719234683530, experiment_id='0', last_update_time=1719234683530, lifecycle_stage='active', name='Default', tags={}>]\n"
     ]
    }
   ],
   "source": [
    "from datetime import datetime\n",
    "from mlflow.tracking import MlflowClient\n",
    "\n",
    "client = MlflowClient()\n",
    "\n",
    "print(dir(client))\n",
    "experiments = client.search_experiments() # returns a list of mlflow.entities.Experiment\n",
    "print(experiments)"
   ]
  },
  {
   "cell_type": "code",
   "execution_count": 13,
   "metadata": {},
   "outputs": [
    {
     "name": "stdout",
     "output_type": "stream",
     "text": [
      "<Run: data=<RunData: metrics={'mae': 0.6177463381374035,\n",
      " 'r2': 0.19042414117747386,\n",
      " 'rmse': 0.7917149365733894}, params={'alpha': '0.42', 'l1_ratio': '0.1'}, tags={'mlflow.gitRepoURL': 'https://github.com/swaminathanayyappan/mlflow-handson.git',\n",
      " 'mlflow.log-model.history': '[{\"run_id\": \"1992af1357234ae7a019a989e134490a\", '\n",
      "                             '\"artifact_path\": \"model\", \"utc_time_created\": '\n",
      "                             '\"2024-06-24 13:32:55.648767\", \"flavors\": '\n",
      "                             '{\"python_function\": {\"model_path\": \"model.pkl\", '\n",
      "                             '\"predict_fn\": \"predict\", \"loader_module\": '\n",
      "                             '\"mlflow.sklearn\", \"python_version\": \"3.10.14\", '\n",
      "                             '\"env\": {\"conda\": \"conda.yaml\", \"virtualenv\": '\n",
      "                             '\"python_env.yaml\"}}, \"sklearn\": '\n",
      "                             '{\"pickled_model\": \"model.pkl\", '\n",
      "                             '\"sklearn_version\": \"1.4.2\", '\n",
      "                             '\"serialization_format\": \"cloudpickle\", \"code\": '\n",
      "                             'null}}, \"model_uuid\": '\n",
      "                             '\"40e3dc9f06724634a7163ef1de2a034b\", '\n",
      "                             '\"mlflow_version\": \"2.14.1\", \"model_size_bytes\": '\n",
      "                             '878}]',\n",
      " 'mlflow.project.backend': 'local',\n",
      " 'mlflow.project.entryPoint': 'main',\n",
      " 'mlflow.project.env': 'conda',\n",
      " 'mlflow.runName': 'tasteful-rook-635',\n",
      " 'mlflow.source.git.commit': '3848b8c1caca16161c67c6536ecb4bd27a448bcb',\n",
      " 'mlflow.source.git.repoURL': 'https://github.com/swaminathanayyappan/mlflow-handson.git',\n",
      " 'mlflow.source.name': 'file://D:\\\\Projects\\\\MLE-Training-Assignments\\\\mlflow-handson',\n",
      " 'mlflow.source.type': 'PROJECT',\n",
      " 'mlflow.user': 'swaminathan.ayya'}>, info=<RunInfo: artifact_uri='mlflow-artifacts:/0/1992af1357234ae7a019a989e134490a/artifacts', end_time=1719235989033, experiment_id='0', lifecycle_stage='active', run_id='1992af1357234ae7a019a989e134490a', run_name='tasteful-rook-635', run_uuid='1992af1357234ae7a019a989e134490a', start_time=1719235643304, status='FINISHED', user_id='swaminathan.ayya'>, inputs=<RunInputs: dataset_inputs=[]>>\n"
     ]
    }
   ],
   "source": [
    "# get the run\n",
    "_run = client.get_run(run_id=\"1992af1357234ae7a019a989e134490a\")\n",
    "print(_run)"
   ]
  },
  {
   "cell_type": "code",
   "execution_count": 14,
   "metadata": {},
   "outputs": [],
   "source": [
    "# add a tag to the run\n",
    "dt = datetime.now().strftime(\"%d-%m-%Y (%H:%M:%S.%f)\")\n",
    "client.set_tag(_run.info.run_id, \"deployed\", dt)"
   ]
  }
 ],
 "metadata": {
  "kernelspec": {
   "display_name": "Python 3",
   "language": "python",
   "name": "python3"
  },
  "language_info": {
   "codemirror_mode": {
    "name": "ipython",
    "version": 3
   },
   "file_extension": ".py",
   "mimetype": "text/x-python",
   "name": "python",
   "nbconvert_exporter": "python",
   "pygments_lexer": "ipython3",
   "version": "3.10.14"
  }
 },
 "nbformat": 4,
 "nbformat_minor": 2
}
